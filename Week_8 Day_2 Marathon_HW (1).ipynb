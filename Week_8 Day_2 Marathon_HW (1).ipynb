{
 "cells": [
  {
   "cell_type": "code",
   "execution_count": 15,
   "id": "eb116708",
   "metadata": {},
   "outputs": [],
   "source": [
    "import pandas as pd\n",
    "import numpy as np"
   ]
  },
  {
   "cell_type": "code",
   "execution_count": 2,
   "id": "14f494fd",
   "metadata": {},
   "outputs": [],
   "source": [
    "# pd.read_csv('./marathon_results_2017 - marathon_results_2017.csv')"
   ]
  },
  {
   "cell_type": "code",
   "execution_count": 16,
   "id": "e6c1dc24",
   "metadata": {},
   "outputs": [],
   "source": [
    "age_groups = pd.DataFrame(\n",
    "    data=pd.read_csv('./marathon_results_2017 - marathon_results_2017.csv'),\n",
    "    index = None\n",
    ")"
   ]
  },
  {
   "cell_type": "code",
   "execution_count": 57,
   "id": "4acb24ee",
   "metadata": {},
   "outputs": [],
   "source": [
    "# age_groups"
   ]
  },
  {
   "cell_type": "code",
   "execution_count": 58,
   "id": "ef4b589a",
   "metadata": {},
   "outputs": [],
   "source": [
    "age_groups['Age_Group'] = pd.cut(age_groups['Age'], bins=[0, 34, 39, 44, 49, 54, 59, 64, 69, 74, 79, 100], labels = ('18-34', '35-39', '40-44', '45-49', '50-54', '55-59', '60-64', '65-69', '70-74', '75-79', '80+'))\n",
    "# age_groups"
   ]
  },
  {
   "cell_type": "code",
   "execution_count": 59,
   "id": "33539746",
   "metadata": {
    "scrolled": false
   },
   "outputs": [],
   "source": [
    "final = age_groups.groupby(['Age_Group']).count()\n",
    "# final"
   ]
  },
  {
   "cell_type": "code",
   "execution_count": 60,
   "id": "ce4b4109",
   "metadata": {
    "scrolled": true
   },
   "outputs": [
    {
     "data": {
      "text/plain": [
       "Age_Group\n",
       "18-34    26.573268\n",
       "35-39    13.638773\n",
       "40-44    14.547520\n",
       "45-49    16.720939\n",
       "50-54    11.995456\n",
       "55-59     8.462704\n",
       "60-64     5.248012\n",
       "65-69     2.037107\n",
       "70-74     0.609618\n",
       "75-79     0.140098\n",
       "80+       0.026505\n",
       "Name: Bib, dtype: float64"
      ]
     },
     "execution_count": 60,
     "metadata": {},
     "output_type": "execute_result"
    }
   ],
   "source": [
    "######################  Question # 1  ###########################\n",
    "\n",
    "(final.groupby('Age_Group')['Bib'].sum() / final['Bib'].sum()) * 100"
   ]
  },
  {
   "cell_type": "code",
   "execution_count": 61,
   "id": "c2df16cd",
   "metadata": {},
   "outputs": [],
   "source": [
    "times = pd.DataFrame(\n",
    "    data=pd.read_csv('./marathon_results_2017 - marathon_results_2017.csv'),\n",
    "    index = None\n",
    ")\n",
    "# times"
   ]
  },
  {
   "cell_type": "code",
   "execution_count": 62,
   "id": "2fcdda09",
   "metadata": {},
   "outputs": [],
   "source": [
    "times['Official Time']= pd.to_datetime(times['Official Time'])\n",
    "times['minutes'] = times['Official Time'].dt.hour * 60 + times['Official Time'].dt.minute + times['Official Time'].dt.second/60\n",
    "# times"
   ]
  },
  {
   "cell_type": "code",
   "execution_count": 63,
   "id": "e5b04ec8",
   "metadata": {},
   "outputs": [
    {
     "data": {
      "text/plain": [
       "M/F\n",
       "F    4.151522\n",
       "M    3.815191\n",
       "Name: minutes, dtype: float64"
      ]
     },
     "execution_count": 63,
     "metadata": {},
     "output_type": "execute_result"
    }
   ],
   "source": [
    "######################  Question # 2  ###########################\n",
    "       #### average finish in hours per gender ####\n",
    "\n",
    "(times.groupby('M/F')['minutes'].sum()/times.groupby('M/F')['minutes'].count())/60"
   ]
  },
  {
   "cell_type": "code",
   "execution_count": 64,
   "id": "59a64d79",
   "metadata": {},
   "outputs": [],
   "source": [
    "df = pd.DataFrame(\n",
    "    data=pd.read_csv('./marathon_results_2017 - marathon_results_2017.csv'),\n",
    "    index = None\n",
    ")\n",
    "# df"
   ]
  },
  {
   "cell_type": "code",
   "execution_count": 66,
   "id": "67d60fb0",
   "metadata": {},
   "outputs": [],
   "source": [
    "######################  Question # 3A  ###########################\n",
    "##     I condensed this to make the file smaller      ##\n",
    "##     uncomment 'df' to see the data with USA runners only    ##\n",
    "df = df[(df['Country'] == 'USA')]\n",
    "# df"
   ]
  },
  {
   "cell_type": "code",
   "execution_count": 65,
   "id": "5aceb0a9",
   "metadata": {},
   "outputs": [],
   "source": [
    "df['Pace']= pd.to_datetime(df['Pace'])\n",
    "df['minutes'] = df['Pace'].dt.hour * 60 + df['Pace'].dt.minute + df['Pace'].dt.second/60\n",
    "# df"
   ]
  },
  {
   "cell_type": "code",
   "execution_count": 56,
   "id": "446b0b3c",
   "metadata": {},
   "outputs": [
    {
     "data": {
      "text/html": [
       "<div>\n",
       "<style scoped>\n",
       "    .dataframe tbody tr th:only-of-type {\n",
       "        vertical-align: middle;\n",
       "    }\n",
       "\n",
       "    .dataframe tbody tr th {\n",
       "        vertical-align: top;\n",
       "    }\n",
       "\n",
       "    .dataframe thead th {\n",
       "        text-align: right;\n",
       "    }\n",
       "</style>\n",
       "<table border=\"1\" class=\"dataframe\">\n",
       "  <thead>\n",
       "    <tr style=\"text-align: right;\">\n",
       "      <th></th>\n",
       "      <th>State</th>\n",
       "      <th>minutes</th>\n",
       "    </tr>\n",
       "  </thead>\n",
       "  <tbody>\n",
       "    <tr>\n",
       "      <th>0</th>\n",
       "      <td>AA</td>\n",
       "      <td>7.116667</td>\n",
       "    </tr>\n",
       "    <tr>\n",
       "      <th>14</th>\n",
       "      <td>GU</td>\n",
       "      <td>7.233333</td>\n",
       "    </tr>\n",
       "    <tr>\n",
       "      <th>2</th>\n",
       "      <td>AK</td>\n",
       "      <td>7.826923</td>\n",
       "    </tr>\n",
       "    <tr>\n",
       "      <th>4</th>\n",
       "      <td>AP</td>\n",
       "      <td>8.108333</td>\n",
       "    </tr>\n",
       "    <tr>\n",
       "      <th>51</th>\n",
       "      <td>VI</td>\n",
       "      <td>8.500000</td>\n",
       "    </tr>\n",
       "    <tr>\n",
       "      <th>8</th>\n",
       "      <td>CO</td>\n",
       "      <td>8.531679</td>\n",
       "    </tr>\n",
       "    <tr>\n",
       "      <th>43</th>\n",
       "      <td>PR</td>\n",
       "      <td>8.539683</td>\n",
       "    </tr>\n",
       "    <tr>\n",
       "      <th>16</th>\n",
       "      <td>IA</td>\n",
       "      <td>8.569369</td>\n",
       "    </tr>\n",
       "    <tr>\n",
       "      <th>10</th>\n",
       "      <td>DC</td>\n",
       "      <td>8.605662</td>\n",
       "    </tr>\n",
       "    <tr>\n",
       "      <th>20</th>\n",
       "      <td>KS</td>\n",
       "      <td>8.609420</td>\n",
       "    </tr>\n",
       "  </tbody>\n",
       "</table>\n",
       "</div>"
      ],
      "text/plain": [
       "   State   minutes\n",
       "0     AA  7.116667\n",
       "14    GU  7.233333\n",
       "2     AK  7.826923\n",
       "4     AP  8.108333\n",
       "51    VI  8.500000\n",
       "8     CO  8.531679\n",
       "43    PR  8.539683\n",
       "16    IA  8.569369\n",
       "10    DC  8.605662\n",
       "20    KS  8.609420"
      ]
     },
     "execution_count": 56,
     "metadata": {},
     "output_type": "execute_result"
    }
   ],
   "source": [
    "######################  Question # 3B  ###########################\n",
    "# data appears to be skewed by odd 'states' like AA and GU that are included in the data, so\n",
    "# I returned top 10 get a better sample of normal states #\n",
    "\n",
    "state_avg = df.groupby(['State'])['minutes'].mean().reset_index()\n",
    "top = state_avg.sort_values('minutes')\n",
    "top.head(10)\n"
   ]
  },
  {
   "cell_type": "code",
   "execution_count": null,
   "id": "8749d57a",
   "metadata": {},
   "outputs": [],
   "source": []
  }
 ],
 "metadata": {
  "kernelspec": {
   "display_name": "Python 3 (ipykernel)",
   "language": "python",
   "name": "python3"
  },
  "language_info": {
   "codemirror_mode": {
    "name": "ipython",
    "version": 3
   },
   "file_extension": ".py",
   "mimetype": "text/x-python",
   "name": "python",
   "nbconvert_exporter": "python",
   "pygments_lexer": "ipython3",
   "version": "3.9.7"
  }
 },
 "nbformat": 4,
 "nbformat_minor": 5
}
